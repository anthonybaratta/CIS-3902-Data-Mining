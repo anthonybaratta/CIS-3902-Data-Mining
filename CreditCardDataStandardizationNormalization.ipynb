{
  "nbformat": 4,
  "nbformat_minor": 0,
  "metadata": {
    "colab": {
      "provenance": []
    },
    "kernelspec": {
      "name": "python3",
      "display_name": "Python 3"
    },
    "language_info": {
      "name": "python"
    }
  },
  "cells": [
    {
      "cell_type": "code",
      "execution_count": 5,
      "metadata": {
        "colab": {
          "base_uri": "https://localhost:8080/"
        },
        "id": "Jrd65ZMd5rhY",
        "outputId": "7e28c23d-bdd5-4bf8-930a-2bcf357304bf"
      },
      "outputs": [
        {
          "output_type": "stream",
          "name": "stdout",
          "text": [
            "    Avg_Credit_Limit  Total_visits_bank\n",
            "80         -0.387644          -0.247170\n",
            "81         -0.733417          -0.860451\n",
            "82         -0.573829          -0.860451\n",
            "83         -0.573829          -0.860451\n",
            "84         -0.680221          -0.247170\n"
          ]
        }
      ],
      "source": [
        "# Import packages and functions\n",
        "import pandas as pd\n",
        "from sklearn import preprocessing\n",
        "\n",
        "# Load the dataset\n",
        "df = pd.read_csv('credit_card.csv')\n",
        "\n",
        "# Create a new dataframe with two features\n",
        "ccOriginal = df[['Avg_Credit_Limit', 'Total_visits_bank']]\n",
        "\n",
        "# Standardize dataframe and return as an array\n",
        "standardizedArray = preprocessing.scale(ccOriginal)\n",
        "\n",
        "# Convert standardized array to dataframe\n",
        "ccOriginalStandardized = pd.DataFrame(standardizedArray, columns=['Avg_Credit_Limit', 'Total_visits_bank'])\n",
        "\n",
        "# Print five lines of the standardized data\n",
        "print(ccOriginalStandardized[80:85])\n",
        "\n"
      ]
    },
    {
      "cell_type": "code",
      "source": [
        "# Load the dataset\n",
        "df = pd.read_csv('credit_card.csv')\n",
        "\n",
        "# Create a new dataframe with two features\n",
        "ccOriginal = df[['Avg_Credit_Limit', 'Total_visits_bank']]\n",
        "\n",
        "# Normalize dataframe and return as an array\n",
        "normalizedArray = preprocessing.MinMaxScaler().fit_transform(ccOriginal)\n",
        "\n",
        "# Convert normalized array to dataframe\n",
        "ccOriginalNormalized = pd.DataFrame(normalizedArray, columns=['Avg_Credit_Limit', 'Total_visits_bank'])\n",
        "\n",
        "# Print five lines of the normalized data\n",
        "print(ccOriginalNormalized[433:438])"
      ],
      "metadata": {
        "colab": {
          "base_uri": "https://localhost:8080/"
        },
        "id": "nRFigz1P7pWp",
        "outputId": "442d383b-1a9a-48d9-e674-3e4112f8b15f"
      },
      "execution_count": 10,
      "outputs": [
        {
          "output_type": "stream",
          "name": "stdout",
          "text": [
            "     Avg_Credit_Limit  Total_visits_bank\n",
            "433          0.309645                0.6\n",
            "434          0.213198                0.4\n",
            "435          0.360406                1.0\n",
            "436          0.355330                0.4\n",
            "437          0.258883                0.6\n"
          ]
        }
      ]
    }
  ]
}
